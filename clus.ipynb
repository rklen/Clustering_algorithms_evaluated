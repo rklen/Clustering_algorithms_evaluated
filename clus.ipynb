{
 "cells": [
  {
   "cell_type": "code",
   "execution_count": 170,
   "metadata": {},
   "outputs": [],
   "source": [
    "import numpy as np\n",
    "import pydicom\n",
    "import nibabel as nib\n",
    "import os\n",
    "import cv2\n",
    "import matplotlib.pyplot as plt\n",
    "from scipy.ndimage.measurements import label\n",
    "from sklearn.decomposition import PCA, FastICA\n",
    "from sklearn.cluster import KMeans, AgglomerativeClustering, SpectralClustering, OPTICS, Birch, AffinityPropagation, MeanShift, DBSCAN, MiniBatchKMeans\n",
    "from sklearn.mixture import GaussianMixture\n",
    "import skfuzzy as fuzz\n",
    "from time import perf_counter\n",
    "from itertools import permutations\n",
    "import scipy\n",
    "from scipy.stats import wilcoxon"
   ]
  },
  {
   "cell_type": "code",
   "execution_count": 109,
   "metadata": {},
   "outputs": [],
   "source": [
    "# ds.NumberOfTimeSlices: 24\n",
    "# ds.NumberOfSlices: 380\n",
    "# ds.PixelSpacing for fitting images together"
   ]
  },
  {
   "cell_type": "code",
   "execution_count": 178,
   "metadata": {},
   "outputs": [],
   "source": [
    "#function for cropping and reflecting the original image given by TotalSegmentator so that it corresponds with the pet images\n",
    "\n",
    "def preprocessTotalSegImg(img_path):\n",
    "\n",
    "    img=nib.load(img_path)\n",
    "    img=img.get_fdata()\n",
    "    img1=np.zeros((220,220,380))\n",
    "    for i in range(380):\n",
    "        img_i=cv2.resize(img[70:442,70:442,379-i],(220,220))\n",
    "        for j in range(220):\n",
    "            img1[:,j,i]=img_i[j,:]\n",
    "    img1=cv2.flip(img1,0)\n",
    "    img1=np.round(img1,1)\n",
    "    return(img1)\n",
    "\n",
    "#function for finding time and location information about the order of dcm image slices\n",
    "\n",
    "def infoFromDcm(pathToDcmFolder):\n",
    "\n",
    "    #for each dcm image in the folder, collect the information what is its acquisition time and slice location\n",
    "    times=[]\n",
    "    locs=[]\n",
    "    for i in range(len(os.listdir(pathToDcmFolder))):\n",
    "        file='{}/{}'.format(pathToDcmFolder,os.listdir(pathToDcmFolder)[i])\n",
    "        ds=pydicom.dcmread(file)\n",
    "        times.append(ds.AcquisitionTime)\n",
    "        locs.append(ds.SliceLocation)\n",
    "    #create vectors for all the possible unique values of acquistion time and location\n",
    "    uniTimes=np.sort(np.unique(np.array(times)))\n",
    "    uniLocs=np.sort(np.unique(np.array(locs)))\n",
    "    #return the vectors\n",
    "    return([times,locs,uniTimes,uniLocs])\n",
    "\n",
    "#function for choosing random locations inside the jth target class of the image given by TotalSegmentator\n",
    "\n",
    "def chooseCurveLocs(img,j,numberOfCurves):\n",
    "    \n",
    "    #create another image matrix where the values within the greatest connected component of the target are 1 and the others are 0\n",
    "    img1=np.array(img==j,dtype=int)\n",
    "    structure=np.ones((3,3,3),dtype=int)\n",
    "    labeled, ncomponents = label(img1,structure)\n",
    "    u1=[]\n",
    "    for u in range(1,ncomponents+1):\n",
    "        img0=np.array(labeled==u,dtype=int)\n",
    "        u1.append(np.sum(img0))\n",
    "    u=np.argmax(u1)+1\n",
    "    img1=np.array(labeled==u,dtype=int)\n",
    "    #find the smallest rectangle containing the greatest connected component of the target by studying the maximums\n",
    "    k5=0\n",
    "    while(np.max(img1[:,:,k5])==0):\n",
    "        k5+=1\n",
    "    k6=k5\n",
    "    while(np.max(img1[:,:,k6])>0):\n",
    "        k6+=1\n",
    "    k3=0\n",
    "    while(np.max(img1[:,k3,k5:k6])==0):\n",
    "        k3+=1\n",
    "    k4=k3\n",
    "    while(np.max(img1[:,k4,k5:k6])>0):\n",
    "        k4+=1\n",
    "    k1=0\n",
    "    while(np.max(img1[k1,k3:k4,k5:k6])==0):\n",
    "        k1+=1\n",
    "    k2=k1\n",
    "    while(np.max(img1[k2,k3:k4,k5:k6])>0):\n",
    "        k2+=1\n",
    "    #choose random locations within the found rectangle\n",
    "    points=np.zeros((numberOfCurves,3))\n",
    "    uList=[]\n",
    "    for i in range(numberOfCurves):\n",
    "        x=int(np.random.choice(range(k1,k2),size=1))\n",
    "        y=int(np.random.choice(range(k3,k4),size=1))\n",
    "        z=int(np.random.choice(range(k5,k6),size=1))\n",
    "        u='{}.{}.{}'.format(x,y,z)\n",
    "        #ensure that the chosen locations are within greatest connected component of the target and unique\n",
    "        while(img1[x,y,z]==0 or u in uList):\n",
    "            x=int(np.random.choice(range(k1,k2),size=1))\n",
    "            y=int(np.random.choice(range(k3,k4),size=1))\n",
    "            z=int(np.random.choice(range(k5,k6),size=1))\n",
    "            u='{}.{}.{}'.format(x,y,z)\n",
    "        points[i,:]=np.array([x,y,z])\n",
    "        uList.append(u)\n",
    "    #return the chosen locations as an numberOfCurves*3-array\n",
    "    return(points)\n",
    "\n",
    "#function for choosing a corner point of a random cube inside the jth target class of the image given by TotalSegmentator\n",
    "\n",
    "def chooseCornerPoint(img,j,sideLength):\n",
    "    \n",
    "    #create another image matrix where the values within the greatest connected component of the target are 1 and the others are 0\n",
    "    img1=np.array(img==j,dtype=int)\n",
    "    structure=np.ones((3,3,3),dtype=int)\n",
    "    labeled, ncomponents = label(img1,structure)\n",
    "    u1=[]\n",
    "    for u in range(1,ncomponents+1):\n",
    "        img0=np.array(labeled==u,dtype=int)\n",
    "        u1.append(np.sum(img0))\n",
    "    u=np.argmax(u1)+1\n",
    "    img1=np.array(labeled==u,dtype=int)\n",
    "    #find the smallest rectangle containing the greatest connected component of the target by studying the maximums\n",
    "    k5=0\n",
    "    while(np.max(img1[:,:,k5])==0):\n",
    "        k5+=1\n",
    "    k6=k5\n",
    "    while(np.max(img1[:,:,k6])>0):\n",
    "        k6+=1\n",
    "    k3=0\n",
    "    while(np.max(img1[:,k3,k5:k6])==0):\n",
    "        k3+=1\n",
    "    k4=k3\n",
    "    while(np.max(img1[:,k4,k5:k6])>0):\n",
    "        k4+=1\n",
    "    k1=0\n",
    "    while(np.max(img1[k1,k3:k4,k5:k6])==0):\n",
    "        k1+=1\n",
    "    k2=k1\n",
    "    while(np.max(img1[k2,k3:k4,k5:k6])>0):\n",
    "        k2+=1\n",
    "    #choose a random point for the corner point of a random cube within the found rectangle\n",
    "    x=int(np.random.choice(range(k1,k2-sideLength),size=1))\n",
    "    y=int(np.random.choice(range(k3,k4-sideLength),size=1))\n",
    "    z=int(np.random.choice(range(k5,k6-sideLength),size=1))\n",
    "    #ensure that the cube is within greatest connected component of the target\n",
    "    while(np.min(img1[x:x+sideLength,y:y+sideLength,z:z+sideLength])==0):\n",
    "        x=int(np.random.choice(range(k1,k2-sideLength),size=1))\n",
    "        y=int(np.random.choice(range(k3,k4-sideLength),size=1))\n",
    "        z=int(np.random.choice(range(k5,k6-sideLength),size=1))\n",
    "    #return the chosen point\n",
    "    return(np.array([x,y,z]))\n",
    "\n",
    "#function for choosing the time activity curves from list of their locations\n",
    "\n",
    "def chooseTACs(points,pathToDcmFolder,times,locs,uniTimes,uniLocs):\n",
    "\n",
    "    arrayForTACs=np.zeros((points.shape[0],len(uniTimes)))\n",
    "    for i in range(len(os.listdir(pathToDcmFolder))):\n",
    "        #check if points contain a slice in the same location as the ith dcm image\n",
    "        if np.argmax(np.array(locs[i]==uniLocs,dtype=int)) in points[:,2]:\n",
    "            file='{}/{}'.format(pathToDcmFolder,os.listdir(pathToDcmFolder)[i])\n",
    "            ds=pydicom.dcmread(file)\n",
    "            #l is the index of the acquisition time corresponding to the ith dcm image\n",
    "            l=np.argmax(np.array(times[i]==uniTimes,dtype=int))\n",
    "            #j is the index of the slice in locList[k] with same location as the ith dcm image\n",
    "            for j in np.nonzero(np.array(np.argmax(np.array(locs[i]==uniLocs,dtype=int))==points[:,2],dtype=int))[0]:\n",
    "                arrayForTACs[j,l]=ds.pixel_array[int(points[j,0]),int(points[j,1])]*ds[0x0028, 0x1053].value+ds[0x0028, 0x1052].value\n",
    "    return(arrayForTACs)\n",
    "\n",
    "#function for choosing time activity curves in the cube\n",
    "\n",
    "def chooseTACsInCube(point,sideLength,pathToDcmFolder,times,locs,uniTimes,uniLocs):\n",
    "\n",
    "    arrayOfTACs=np.zeros((sideLength,sideLength,sideLength,len(uniTimes)))\n",
    "    for i in range(len(os.listdir(pathToDcmFolder))):\n",
    "        #check if locList[k] contains a slice in the same location as the ith dcm image\n",
    "            if np.argmax(np.array(locs[i]==uniLocs,dtype=int)) in range(point[2],point[2]+sideLength):\n",
    "                file='{}/{}'.format(pathToDcmFolder,os.listdir(pathToDcmFolder)[i])\n",
    "                ds=pydicom.dcmread(file)\n",
    "                #l is the index of the acquisition time corresponding to the ith dcm image\n",
    "                l=np.argmax(np.array(times[i]==uniTimes,dtype=int))\n",
    "                #j is the index of the slice in the cube with same location as the ith dcm image\n",
    "                for j in range(sideLength):\n",
    "                    if np.argmax(np.array(locs[i]==uniLocs,dtype=int))==point[2]+j:\n",
    "                        arrayOfTACs[:,:,j,l]=ds.pixel_array[point[0]:point[0]+sideLength,point[1]:point[1]+sideLength]*ds[0x0028, 0x1053].value+ds[0x0028, 0x1052].value\n",
    "    return(arrayOfTACs)\n",
    "\n",
    "#function for running the clustering algorithms\n",
    "\n",
    "def clusterAlg(curves,clusterNumber):\n",
    "\n",
    "    labelList=[]\n",
    "    clusteringMethods=[]\n",
    "    processingTimes=[]\n",
    "    #PCA+Kmeans\n",
    "    startTime=perf_counter()\n",
    "    PCA_clustering=PCA(n_components=clusterNumber).fit_transform(curves)\n",
    "    endTime=perf_counter()\n",
    "    processingTimes.append(endTime-startTime)\n",
    "    startTime=perf_counter()\n",
    "    PCA_labels=KMeans(n_clusters=clusterNumber).fit_predict(PCA_clustering)\n",
    "    endTime=perf_counter()\n",
    "    processingTimes.append(endTime-startTime)\n",
    "    labelList.append(PCA_labels)\n",
    "    clusteringMethods.append('PCA+Kmeans')\n",
    "    startTime=perf_counter()\n",
    "    MiniPCA_labels=MiniBatchKMeans(n_clusters=clusterNumber).fit_predict(PCA_clustering)\n",
    "    endTime=perf_counter()\n",
    "    processingTimes.append(endTime-startTime)\n",
    "    labelList.append(MiniPCA_labels)\n",
    "    clusteringMethods.append('PCA+MiniBatchKmeans')\n",
    "    #ICA+Kmeans\n",
    "    startTime=perf_counter()\n",
    "    ICA_clustering=FastICA(n_components=clusterNumber).fit_transform(curves)\n",
    "    endTime=perf_counter()\n",
    "    processingTimes.append(endTime-startTime)\n",
    "    startTime=perf_counter()\n",
    "    ICA_labels=KMeans(n_clusters=clusterNumber).fit_predict(ICA_clustering)\n",
    "    endTime=perf_counter()\n",
    "    processingTimes.append(endTime-startTime)\n",
    "    labelList.append(ICA_labels)\n",
    "    clusteringMethods.append('ICA+Kmeans')\n",
    "    startTime=perf_counter()\n",
    "    MiniICA_labels=MiniBatchKMeans(n_clusters=clusterNumber).fit_predict(ICA_clustering)\n",
    "    endTime=perf_counter()\n",
    "    processingTimes.append(endTime-startTime)\n",
    "    labelList.append(MiniICA_labels)\n",
    "    clusteringMethods.append('ICA+MiniBatchKmeans')\n",
    "    #gaussian mixture model\n",
    "    startTime=perf_counter()\n",
    "    GMM_model=GaussianMixture(n_components=clusterNumber).fit(curves)\n",
    "    GMM_labels=GMM_model.predict(curves)\n",
    "    endTime=perf_counter()\n",
    "    processingTimes.append(endTime-startTime)\n",
    "    labelList.append(GMM_labels)\n",
    "    clusteringMethods.append('GMM')\n",
    "    #Hierarchical clustering\n",
    "    startTime=perf_counter()\n",
    "    Agg_clustering=AgglomerativeClustering(n_clusters=clusterNumber).fit(curves)\n",
    "    Agg_labels=Agg_clustering.labels_\n",
    "    endTime=perf_counter()\n",
    "    processingTimes.append(endTime-startTime)\n",
    "    labelList.append(Agg_labels)\n",
    "    clusteringMethods.append('Agglomerative')\n",
    "    #Spectral clustering\n",
    "    startTime=perf_counter()\n",
    "    Spectral_clustering=SpectralClustering(n_clusters=clusterNumber).fit(curves)\n",
    "    Spectral_labels=Spectral_clustering.labels_\n",
    "    endTime=perf_counter()\n",
    "    processingTimes.append(endTime-startTime)\n",
    "    labelList.append(Spectral_labels)\n",
    "    clusteringMethods.append('Spectral')\n",
    "    #OPTICS clustering\n",
    "    startTime=perf_counter()\n",
    "    Optics_clustering=OPTICS().fit(curves)\n",
    "    Optics_labels=Optics_clustering.labels_+1\n",
    "    endTime=perf_counter()\n",
    "    processingTimes.append(endTime-startTime)\n",
    "    labelList.append(Optics_labels)\n",
    "    clusteringMethods.append('Optics')\n",
    "    #Birch clustering\n",
    "    startTime=perf_counter()\n",
    "    Birch_clustering=Birch(n_clusters=clusterNumber).fit(curves)\n",
    "    Birch_labels=Birch_clustering.labels_\n",
    "    endTime=perf_counter()\n",
    "    processingTimes.append(endTime-startTime)\n",
    "    labelList.append(Birch_labels)\n",
    "    clusteringMethods.append('Birch')\n",
    "    #AffinityPropagation clustering\n",
    "    startTime=perf_counter()\n",
    "    Aff_clustering=AffinityPropagation().fit(curves)\n",
    "    Aff_labels=Aff_clustering.labels_\n",
    "    endTime=perf_counter()\n",
    "    processingTimes.append(endTime-startTime)\n",
    "    labelList.append(Aff_labels)\n",
    "    clusteringMethods.append('AffinityPropagation')\n",
    "    #Mean shift\n",
    "    startTime=perf_counter()\n",
    "    MS_clustering=MeanShift().fit(curves)\n",
    "    MS_labels=MS_clustering.labels_\n",
    "    endTime=perf_counter()\n",
    "    processingTimes.append(endTime-startTime)\n",
    "    labelList.append(MS_labels)\n",
    "    clusteringMethods.append('MeanShift')\n",
    "    #DBSCAN\n",
    "    startTime=perf_counter()\n",
    "    DBSCAN_clustering=DBSCAN().fit(curves)\n",
    "    DBSCAN_labels=DBSCAN_clustering.labels_+1\n",
    "    endTime=perf_counter()\n",
    "    processingTimes.append(endTime-startTime)\n",
    "    labelList.append(DBSCAN_labels)\n",
    "    clusteringMethods.append('DBSCAN')\n",
    "    #fuzzy c-means\n",
    "    startTime=perf_counter()\n",
    "    u=fuzz.cluster.cmeans(np.transpose(curves),clusterNumber,3,0.005,1000)\n",
    "    fcp_labels=np.argmax(u[1],axis=0)\n",
    "    endTime=perf_counter()\n",
    "    processingTimes.append(endTime-startTime)\n",
    "    labelList.append(fcp_labels)\n",
    "    clusteringMethods.append('Fuzzy c-means')\n",
    "    return(labelList,clusteringMethods,processingTimes)\n",
    "\n",
    "#function for evaluating of predicted labels\n",
    "\n",
    "def evaluatedPredLabels(predictedLabels,curveLabels,clusterNumber):\n",
    "\n",
    "    numberOfCurves=len(predictedLabels)\n",
    "    #if there are too many clusters, combine the smallest of them to one cluster\n",
    "    numberOfPredClusters=len(np.unique(predictedLabels))\n",
    "    if numberOfPredClusters>clusterNumber:\n",
    "        clusterSizes=[]\n",
    "        for i in range(numberOfPredClusters):\n",
    "            clusterSizes.append(np.sum(predictedLabels==i))\n",
    "        newPredictedLabels=np.zeros((numberOfCurves))\n",
    "        for j in range(1,clusterNumber):\n",
    "            for i in range(numberOfCurves):\n",
    "                if predictedLabels[i]==np.argmax(clusterSizes):\n",
    "                    newPredictedLabels[i]=int(j)\n",
    "            clusterSizes[np.argmax(clusterSizes)]=0\n",
    "        predictedLabels=newPredictedLabels.astype('int64')\n",
    "    #create an array that shows how different curves are divided in clusters\n",
    "    divArray=np.zeros((clusterNumber,clusterNumber))\n",
    "    for i in range(numberOfCurves):\n",
    "        divArray[predictedLabels[i],curveLabels[i]]+=1\n",
    "    #order the array to maximize diagonal sums\n",
    "    diagSums=[]\n",
    "    for order in list(permutations(range(clusterNumber))):\n",
    "        diagSums.append(np.sum(np.diag(divArray[order,:])))\n",
    "    order=list(permutations(range(clusterNumber)))[np.argmax(diagSums)]\n",
    "    divArray1=divArray[order,:]\n",
    "    metricValues=[]\n",
    "    metricValues.append(np.sum(np.diag(divArray1))/np.sum(divArray1))\n",
    "    for i in range(clusterNumber):\n",
    "        if np.sum(divArray1[:,i])>0:\n",
    "            metricValues.append(divArray1[i,i]/np.sum(divArray1[:,i]))\n",
    "        else:\n",
    "            metricValues.append(0)\n",
    "        if np.sum(divArray1[i,:])>0:\n",
    "            metricValues.append(divArray1[i,i]/np.sum(divArray1[i,:]))\n",
    "        else:\n",
    "            metricValues.append(0)\n",
    "    return(metricValues)\n",
    "\n",
    "#f-test of equal variance\n",
    "\n",
    "def f_test(x,y):\n",
    "\n",
    "    x=np.array(x)\n",
    "    y=np.array(y)\n",
    "    f=np.var(x,ddof=1)/np.var(y,ddof=1)\n",
    "    dfn=x.size-1\n",
    "    dfd=y.size-1\n",
    "    p=2*min(1-scipy.stats.f.cdf(f,dfn,dfd),scipy.stats.f.cdf(f,dfn,dfd))\n",
    "    return(p)"
   ]
  },
  {
   "cell_type": "code",
   "execution_count": 5,
   "metadata": {},
   "outputs": [
    {
     "name": "stdout",
     "output_type": "stream",
     "text": [
      "6\n",
      "26\n",
      "39\n",
      "42\n",
      "80\n"
     ]
    },
    {
     "name": "stderr",
     "output_type": "stream",
     "text": [
      "c:\\Users\\Oona\\AppData\\Local\\Programs\\Python\\Python39\\lib\\site-packages\\sklearn\\manifold\\_spectral_embedding.py:260: UserWarning: Graph is not fully connected, spectral embedding may not work as expected.\n",
      "  warnings.warn(\n",
      "c:\\Users\\Oona\\AppData\\Local\\Programs\\Python\\Python39\\lib\\site-packages\\sklearn\\cluster\\_affinity_propagation.py:250: ConvergenceWarning: Affinity propagation did not converge, this model will not have any cluster centers.\n",
      "  warnings.warn(\n"
     ]
    }
   ],
   "source": [
    "studyCode='koveri0030'\n",
    "files=os.listdir('D:/koveri/Data/{}'.format(studyCode))\n",
    "for i in files:\n",
    "    if 'segments.nii' in i:\n",
    "        img_path='D:/koveri/Data/{}/{}'.format(studyCode,i)\n",
    "    if 'Rest' in i or 'rest' in i:\n",
    "        pathToDcmFolder='D:/koveri/Data/{}/{}/{}'.format(studyCode,i,os.listdir('D:/koveri/Data/{}/{}'.format(studyCode,i))[0])\n",
    "img=preprocessTotalSegImg(img_path)\n",
    "times,locs,uniTimes,uniLocs=infoFromDcm(pathToDcmFolder)\n",
    "\n",
    "#indices: 6. brain, 26. right heart ventricle, 39. right kidney, 42. lower right lung lobe, 80. urinary bladder\n",
    "indices=[6,26,39,42,80]\n",
    "organs=['brain','heart','kidney','lung','bladder'] \n",
    "clusterNumber=len(indices)\n",
    "numberOfCurves=1000\n",
    "#sideLength=10\n",
    "#numberOfCurves=sideLength**3\n",
    "TACList=[]\n",
    "for j in indices:\n",
    "    points=chooseCurveLocs(img,j,numberOfCurves)\n",
    "    arrayOfTACs=chooseTACs(points,pathToDcmFolder,times,locs,uniTimes,uniLocs)\n",
    "    #point=chooseCornerPoint(img,j,sideLength)\n",
    "    #arrayOfTACs=chooseTACsInCube(point,sideLength,pathToDcmFolder,times,locs,uniTimes,uniLocs)\n",
    "    TACList.append(arrayOfTACs)\n",
    "    print(j)\n",
    "\n",
    "curves=[]\n",
    "curveLabels=np.array(list(range(clusterNumber))*numberOfCurves)\n",
    "for i in range(numberOfCurves):\n",
    "    for l in range(clusterNumber):\n",
    "        curves.append(TACList[l][i,:])\n",
    "#for i in range(sideLength):\n",
    "#    for j in range(sideLength):\n",
    "#        for k in range(sideLength):\n",
    "#            for l in range(clusterNumber):\n",
    "#                curves.append(TACList[l][i,j,k,:])\n",
    "curves=np.array(curves)\n",
    "\n",
    "labelList,clusteringMethods,processingTimes=clusterAlg(curves,clusterNumber)\n",
    "\n",
    "eval=np.zeros((13,11))\n",
    "for i in range(13):\n",
    "    eval[i,:]=evaluatedPredLabels(labelList[i],curveLabels,clusterNumber)\n",
    "\n",
    "np.savetxt('{}_labels.txt'.format(studyCode),np.array(labelList))\n",
    "np.savetxt('{}_times.txt'.format(studyCode),np.array(processingTimes))\n",
    "np.savetxt('{}_eval.txt'.format(studyCode),eval)"
   ]
  },
  {
   "cell_type": "code",
   "execution_count": 26,
   "metadata": {},
   "outputs": [
    {
     "name": "stdout",
     "output_type": "stream",
     "text": [
      "Fuzzy c-means\n",
      "83.1 & 89.7 & 74.9 & 64.6 & 99.9 & 78.0 & 93.7 & 86.1 & 76.1 & 100.0 & 84.8\n"
     ]
    }
   ],
   "source": [
    "i=12\n",
    "files=os.listdir('C:/Users/Oona/Documents/Tpc/clus')\n",
    "eval=[]\n",
    "for j in range(len(files)):\n",
    "    if 'eval.txt' in files[j]:\n",
    "        eval.append(np.loadtxt(files[j])[i])\n",
    "eval=np.array(eval)\n",
    "v=np.median(eval,axis=0)\n",
    "v=100*v\n",
    "print(clusteringMethods[i])\n",
    "print(round(v[0],1),'&',round(v[1],1),'&',round(v[2],1),'&',round(v[3],1),'&',round(v[4],1),'&',round(v[5],1),'&',\n",
    "      round(v[6],1),'&',round(v[7],1),'&',round(v[8],1),'&',round(v[9],1),'&',round(v[10],1))"
   ]
  },
  {
   "cell_type": "code",
   "execution_count": 140,
   "metadata": {},
   "outputs": [
    {
     "name": "stdout",
     "output_type": "stream",
     "text": [
      "PCA+Kmeans\n",
      "PCA+MiniBatchKmeans\n",
      "WilcoxonResult(statistic=205.0, pvalue=0.5716457836721114)\n"
     ]
    }
   ],
   "source": [
    "i=0\n",
    "i1=1\n",
    "files=os.listdir('C:/Users/Oona/Documents/Tpc/clus')\n",
    "eval=[]\n",
    "eval1=[]\n",
    "for j in range(len(files)):\n",
    "    if 'eval.txt' in files[j]:\n",
    "        eval.append(np.loadtxt(files[j])[i,0])\n",
    "        eval1.append(np.loadtxt(files[j])[i1,0])\n",
    "eval=np.array(eval)\n",
    "eval1=np.array(eval1)\n",
    "print(clusteringMethods[i])\n",
    "print(clusteringMethods[i1])\n",
    "print(wilcoxon(x=eval,y=eval1))"
   ]
  },
  {
   "cell_type": "code",
   "execution_count": 166,
   "metadata": {},
   "outputs": [
    {
     "name": "stdout",
     "output_type": "stream",
     "text": [
      "Fuzzy c-means\n",
      "10.8\n"
     ]
    }
   ],
   "source": [
    "i=12\n",
    "files=os.listdir('C:/Users/Oona/Documents/Tpc/clus')\n",
    "eval=[]\n",
    "for j in range(len(files)):\n",
    "    if 'eval.txt' in files[j]:\n",
    "        eval.append(np.loadtxt(files[j])[i,0])\n",
    "eval=np.array(eval)\n",
    "print(clusteringMethods[i])\n",
    "print(round(100*np.std(eval),1))"
   ]
  },
  {
   "cell_type": "code",
   "execution_count": 190,
   "metadata": {},
   "outputs": [
    {
     "name": "stdout",
     "output_type": "stream",
     "text": [
      "Fuzzy c-means\n",
      "GMM\n",
      "0.240896683672642\n"
     ]
    }
   ],
   "source": [
    "i=12\n",
    "i1=4\n",
    "files=os.listdir('C:/Users/Oona/Documents/Tpc/clus')\n",
    "eval=[]\n",
    "eval1=[]\n",
    "for j in range(len(files)):\n",
    "    if 'eval.txt' in files[j]:\n",
    "        eval.append(np.loadtxt(files[j])[i,0])\n",
    "        eval1.append(np.loadtxt(files[j])[i1,0])\n",
    "eval=np.array(eval)\n",
    "eval1=np.array(eval1)\n",
    "print(clusteringMethods[i])\n",
    "print(clusteringMethods[i1])\n",
    "print(f_test(x=eval,y=eval1))"
   ]
  },
  {
   "cell_type": "code",
   "execution_count": 151,
   "metadata": {},
   "outputs": [
    {
     "name": "stdout",
     "output_type": "stream",
     "text": [
      "PCA+Kmeans 0.063\n",
      "PCA+MiniBatchKmeans 0.06\n",
      "ICA+Kmeans 0.182\n",
      "ICA+MiniBatchKmeans 0.034\n",
      "GMM 0.597\n",
      "Agglomerative 1.45\n",
      "Spectral 5.911\n",
      "Optics 8.596\n",
      "Birch 2.028\n",
      "AffinityPropagation 182.409\n",
      "MeanShift 43.809\n",
      "DBSCAN 0.466\n",
      "Fuzzy c-means 0.18\n"
     ]
    }
   ],
   "source": [
    "files=os.listdir('C:/Users/Oona/Documents/Tpc/clus')\n",
    "times=[]\n",
    "for j in range(len(files)):\n",
    "    if 'times.txt' in files[j]:\n",
    "        times.append(np.loadtxt(files[j]))\n",
    "times=np.array(times)\n",
    "v=np.mean(times,axis=0)\n",
    "for i in range(2,len(v)):\n",
    "    print(clusteringMethods[i-2],round(v[i],3))"
   ]
  },
  {
   "cell_type": "code",
   "execution_count": 196,
   "metadata": {},
   "outputs": [
    {
     "data": {
      "text/plain": [
       "5"
      ]
     },
     "execution_count": 196,
     "metadata": {},
     "output_type": "execute_result"
    }
   ],
   "source": [
    "len(np.unique(np.loadtxt('koveri0001_labels.txt')[0]))"
   ]
  },
  {
   "cell_type": "code",
   "execution_count": 209,
   "metadata": {},
   "outputs": [
    {
     "name": "stdout",
     "output_type": "stream",
     "text": [
      "Spectral\n",
      "[5, 5, 5, 5, 5, 5, 5, 5, 5, 5, 5, 5, 5, 5, 5, 5, 5, 5, 5, 5, 5, 5, 5, 5, 5, 5, 5, 5, 5, 5]\n"
     ]
    }
   ],
   "source": [
    "i=6\n",
    "files=os.listdir('C:/Users/Oona/Documents/Tpc/clus')\n",
    "cNumbers=[]\n",
    "for j in range(len(files)):\n",
    "    if 'labels.txt' in files[j]:\n",
    "        cNumbers.append(len(np.unique(np.loadtxt(files[j])[i])))\n",
    "print(clusteringMethods[i])\n",
    "print(cNumbers)"
   ]
  },
  {
   "cell_type": "code",
   "execution_count": 210,
   "metadata": {},
   "outputs": [
    {
     "name": "stdout",
     "output_type": "stream",
     "text": [
      "5\n",
      "5\n",
      "5.0\n"
     ]
    }
   ],
   "source": [
    "print(np.min(cNumbers))\n",
    "print(np.max(cNumbers))\n",
    "print(np.mean(cNumbers))"
   ]
  },
  {
   "cell_type": "code",
   "execution_count": 227,
   "metadata": {},
   "outputs": [
    {
     "name": "stdout",
     "output_type": "stream",
     "text": [
      "Spectral\n"
     ]
    }
   ],
   "source": [
    "i=6\n",
    "files=os.listdir('C:/Users/Oona/Documents/Tpc/clus')\n",
    "v=np.zeros((30,5))\n",
    "l=0\n",
    "for j in range(len(files)):\n",
    "    if 'labels.txt' in files[j]:\n",
    "        for k in range(5):\n",
    "            v[l,k]=np.sum(np.loadtxt(files[j])[i]==k)\n",
    "        l+=1\n",
    "print(clusteringMethods[i])"
   ]
  },
  {
   "cell_type": "code",
   "execution_count": 228,
   "metadata": {},
   "outputs": [
    {
     "name": "stdout",
     "output_type": "stream",
     "text": [
      "1.0\n",
      "4993.0\n"
     ]
    }
   ],
   "source": [
    "minVs=[]\n",
    "for j in range(30):\n",
    "    minVs.append(np.min(v[j,:]))\n",
    "print(np.min(minVs))\n",
    "\n",
    "maxVs=[]\n",
    "for j in range(30):\n",
    "    maxVs.append(np.max(v[j,:]))\n",
    "print(np.max(maxVs))"
   ]
  },
  {
   "cell_type": "code",
   "execution_count": 35,
   "metadata": {},
   "outputs": [
    {
     "name": "stdout",
     "output_type": "stream",
     "text": [
      "brain\n"
     ]
    },
    {
     "data": {
      "image/png": "[encoded data removed]",
      "text/plain": [
       "<Figure size 432x288 with 1 Axes>"
      ]
     },
     "metadata": {
      "needs_background": "light"
     },
     "output_type": "display_data"
    },
    {
     "name": "stdout",
     "output_type": "stream",
     "text": [
      "heart\n"
     ]
    },
    {
     "data": {
      "image/png": "[encoded data removed]",
      "text/plain": [
       "<Figure size 432x288 with 1 Axes>"
      ]
     },
     "metadata": {
      "needs_background": "light"
     },
     "output_type": "display_data"
    },
    {
     "name": "stdout",
     "output_type": "stream",
     "text": [
      "kidney\n"
     ]
    },
    {
     "data": {
      "image/png": "[encoded data removed]",
      "text/plain": [
       "<Figure size 432x288 with 1 Axes>"
      ]
     },
     "metadata": {
      "needs_background": "light"
     },
     "output_type": "display_data"
    },
    {
     "name": "stdout",
     "output_type": "stream",
     "text": [
      "lung\n"
     ]
    },
    {
     "data": {
      "image/png": "[encoded data removed]",
      "text/plain": [
       "<Figure size 432x288 with 1 Axes>"
      ]
     },
     "metadata": {
      "needs_background": "light"
     },
     "output_type": "display_data"
    },
    {
     "name": "stdout",
     "output_type": "stream",
     "text": [
      "bladder\n"
     ]
    },
    {
     "data": {
      "image/png": "[encoded data removed]",
      "text/plain": [
       "<Figure size 432x288 with 1 Axes>"
      ]
     },
     "metadata": {
      "needs_background": "light"
     },
     "output_type": "display_data"
    }
   ],
   "source": [
    "for l in range(clusterNumber):\n",
    "    print(organs[l])\n",
    "    for i in range(numberOfCurves):\n",
    "        plt.plot(range(len(uniTimes)),curves[clusterNumber*i+l],color='blue')\n",
    "    plt.plot(range(len(uniTimes)),curves[np.array(np.array(range(numberOfCurves))*clusterNumber+l)].mean(axis=0),color='black')\n",
    "    plt.show()"
   ]
  },
  {
   "cell_type": "code",
   "execution_count": 19,
   "metadata": {},
   "outputs": [
    {
     "name": "stdout",
     "output_type": "stream",
     "text": [
      "PCA+Kmeans 0.726\n",
      "PCA+MiniBatchKmeans 0.542\n",
      "ICA+Kmeans 0.727\n",
      "ICA+MiniBatchKmeans 0.738\n",
      "GMM 0.908\n",
      "Agglomerative 0.772\n",
      "Spectral 0.204\n",
      "Optics 0.21\n",
      "Birch 0.772\n",
      "AffinityPropagation 0.2\n",
      "MeanShift 0.36\n",
      "DBSCAN 0.2\n",
      "Fuzzy c-means 0.752\n"
     ]
    }
   ],
   "source": [
    "for i in range(len(labelList)):\n",
    "    print(clusteringMethods[i],round(evaluatedPredLabels(labelList[i],curveLabels,clusterNumber)[0],3))"
   ]
  },
  {
   "cell_type": "code",
   "execution_count": 20,
   "metadata": {},
   "outputs": [
    {
     "name": "stdout",
     "output_type": "stream",
     "text": [
      "[0.07757330000004004, 0.17883979999987787, 0.26150849999976344, 0.04910740000013902, 0.21333179999965068, 0.033140499999717576, 0.43469080000022586, 2.1087557000000743, 7.444442800000161, 10.18410380000023, 2.4457072000000153, 225.64873780000016, 49.32745429999977, 0.48742719999972905, 0.202138599999671]\n"
     ]
    }
   ],
   "source": [
    "print(processingTimes)"
   ]
  },
  {
   "cell_type": "code",
   "execution_count": 21,
   "metadata": {},
   "outputs": [
    {
     "name": "stdout",
     "output_type": "stream",
     "text": [
      "PCA+Kmeans\n",
      "Accuracy : 0.726\n",
      "Sensitivity of brain : 0.88\n",
      "Specificity of brain : 0.584\n",
      "Sensitivity of heart : 0.585\n",
      "Specificity of heart : 0.998\n",
      "Sensitivity of kidney : 0.54\n",
      "Specificity of kidney : 0.978\n",
      "Sensitivity of lung : 0.626\n",
      "Specificity of lung : 0.634\n",
      "Sensitivity of bladder : 1.0\n",
      "Specificity of bladder : 0.732\n"
     ]
    }
   ],
   "source": [
    "i=0\n",
    "print(clusteringMethods[i])\n",
    "predictedLabels=labelList[i]\n",
    "metricValues=evaluatedPredLabels(predictedLabels,curveLabels,clusterNumber)\n",
    "print('Accuracy :',round(metricValues[0],3))\n",
    "for i in range(clusterNumber):\n",
    "    print('Sensitivity of',organs[i],':',round(metricValues[2*i+1],3))\n",
    "    print('Specificity of',organs[i],':',round(metricValues[2*i+2],3))"
   ]
  },
  {
   "cell_type": "code",
   "execution_count": null,
   "metadata": {},
   "outputs": [],
   "source": [
    "times=[]\n",
    "locs=[]\n",
    "for i in range(len(os.listdir(pathToDcmFolder))):\n",
    "    file='{}/{}'.format(pathToDcmFolder,os.listdir(pathToDcmFolder)[i])\n",
    "    ds=pydicom.dcmread(file)\n",
    "    times.append(ds.AcquisitionTime)\n",
    "    locs.append(ds.SliceLocation)\n",
    "uniTimes=np.sort(np.unique(np.array(times)))\n",
    "uniLocs=np.sort(np.unique(np.array(locs)))\n",
    "img3d=np.zeros((220,220,380))\n",
    "for i in range(len(os.listdir(pathToDcmFolder)))):\n",
    "    if times[i]==uniTimes[18]:\n",
    "        file='{}/{}'.format(pathToDcmFolder),os.listdir(pathToDcmFolder))[i])\n",
    "        ds=pydicom.dcmread(file)\n",
    "        for j in range(len(uniLocs)):\n",
    "            if uniLocs[j]==locs[i]:\n",
    "                img3d[:,:,j]=ds.pixel_array*ds[0x0028, 0x1053].value+ds[0x0028, 0x1052].value"
   ]
  },
  {
   "cell_type": "code",
   "execution_count": null,
   "metadata": {},
   "outputs": [],
   "source": [
    "ctfilepath='D:/koveri/Data/koveri0001/CT_3.0__Br36__5'\n",
    "ctlocs=[]\n",
    "for i in range(len(os.listdir(ctfilepath))):\n",
    "    file='{}/{}'.format(ctfilepath,os.listdir(ctfilepath)[i])\n",
    "    if file[-4:]=='.dcm':\n",
    "        ds=pydicom.dcmread(file)\n",
    "        ctlocs.append(ds.SliceLocation)\n",
    "ctUniLocs=np.sort(np.unique(np.array(ctlocs)))\n",
    "\n",
    "ctImg=np.zeros((512,512,380))\n",
    "for i in range(len(os.listdir(ctfilepath))):\n",
    "    file='{}/{}'.format(ctfilepath,os.listdir(ctfilepath)[i])\n",
    "    if file[-4:]=='.dcm':\n",
    "        ds=pydicom.dcmread(file)\n",
    "        for j in range(len(ctUniLocs)):\n",
    "            if ctUniLocs[j]==ctlocs[i]:\n",
    "                ctImg[:,:,j]=ds.pixel_array\n",
    "print(ds.ImagePositionPatient)\n",
    "print(ds.PixelSpacing)\n",
    "print(256-110*1.65/0.9765625)\n",
    "print(256+110*1.65/0.9765625)\n",
    "plt.imshow(cv2.resize(ctImg[70:442,256,:],(380,220)),cmap='gray')"
   ]
  },
  {
   "cell_type": "code",
   "execution_count": 10,
   "metadata": {},
   "outputs": [],
   "source": [
    "curves=[]\n",
    "curveLabels=np.array([0,1,2]*15)\n",
    "for i in range(15):\n",
    "    curves.append(np.random.normal(0,1,10))\n",
    "    curves.append(np.random.normal(3,1,10))\n",
    "    curves.append(np.random.normal(0,5,10))\n",
    "curves=np.array(curves)"
   ]
  },
  {
   "cell_type": "code",
   "execution_count": 70,
   "metadata": {},
   "outputs": [
    {
     "name": "stdout",
     "output_type": "stream",
     "text": [
      "[0 1 0 0 1 1 0 1 0 0 1 2 0 1 0 0 1 0 0 1 2 0 1 1 0 1 2 0 1 0 0 1 0 0 1 2 0\n",
      " 1 0 0 1 0 0 1 0]\n"
     ]
    }
   ],
   "source": [
    "from sklearn.decomposition import FastICA\n",
    "#ICA+Kmeans\n",
    "ICA_clustering=FastICA(n_components=clusterNumber).fit_transform(curves)\n",
    "ICA_labels=KMeans(n_clusters=clusterNumber).fit_predict(ICA_clustering)\n",
    "print(ICA_labels)"
   ]
  }
 ],
 "metadata": {
  "kernelspec": {
   "display_name": "Python 3",
   "language": "python",
   "name": "python3"
  },
  "language_info": {
   "codemirror_mode": {
    "name": "ipython",
    "version": 3
   },
   "file_extension": ".py",
   "mimetype": "text/x-python",
   "name": "python",
   "nbconvert_exporter": "python",
   "pygments_lexer": "ipython3",
   "version": "3.9.9"
  },
  "orig_nbformat": 4
 },
 "nbformat": 4,
 "nbformat_minor": 2
}
